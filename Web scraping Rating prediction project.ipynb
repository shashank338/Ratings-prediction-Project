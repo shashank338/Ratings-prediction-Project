{
 "cells": [
  {
   "cell_type": "code",
   "execution_count": 6,
   "metadata": {},
   "outputs": [],
   "source": [
    "# Importing Libraries\n",
    "import selenium\n",
    "import pandas as pd\n",
    "import numpy as np\n",
    "import time\n",
    "from bs4 import BeautifulSoup\n",
    "import requests\n",
    "import re\n",
    "from selenium import webdriver\n",
    "from selenium.webdriver.common.by import By\n",
    "from selenium.webdriver.chrome.service import Service\n",
    "from selenium.webdriver.chromium import service\n",
    "from selenium.webdriver.support.ui import WebDriverWait\n",
    "from selenium.common.exceptions import StaleElementReferenceException, NoSuchElementException"
   ]
  },
  {
   "cell_type": "markdown",
   "metadata": {},
   "source": [
    "## Web Scrapping - Amazon"
   ]
  },
  {
   "cell_type": "code",
   "execution_count": 7,
   "metadata": {},
   "outputs": [],
   "source": [
    "# connecting to web drivers and open url\n",
    "service = Service(r'C:\\Users\\user\\Desktop\\chromedriver_win32\\chromedriver.exe')\n",
    "service.start()\n",
    "\n",
    "driver = webdriver.Remote(service.service_url)\n",
    "\n",
    "keyword ='https://www.amazon.in/'\n",
    "driver.get(keyword)"
   ]
  },
  {
   "cell_type": "markdown",
   "metadata": {},
   "source": [
    "**Smart phones**"
   ]
  },
  {
   "cell_type": "code",
   "execution_count": 8,
   "metadata": {},
   "outputs": [],
   "source": [
    "#searching for \"smartphones\"\n",
    "search = driver.find_element(By.XPATH,'/html/body/div[1]/header/div/div[1]/div[2]/div/form/div[2]/div[1]/input')\n",
    "search.send_keys(\"smartphones\")\n",
    "search = driver.find_element(By.XPATH,'/html/body/div[1]/header/div/div[1]/div[2]/div/form/div[3]/div/span/input')\n",
    "search.click()"
   ]
  },
  {
   "cell_type": "code",
   "execution_count": 9,
   "metadata": {},
   "outputs": [],
   "source": [
    "#empty list to store all URLs of smartphones\n",
    "product_url =[]"
   ]
  },
  {
   "cell_type": "code",
   "execution_count": 10,
   "metadata": {},
   "outputs": [],
   "source": [
    "product_url_tag = driver.find_elements(By.XPATH,\"//a[@class='a-link-normal s-underline-text s-underline-link-text s-link-style a-text-normal']\")"
   ]
  },
  {
   "cell_type": "code",
   "execution_count": 11,
   "metadata": {},
   "outputs": [],
   "source": [
    "# url of smartphones are appended to the the list\n",
    "for u in product_url_tag:\n",
    "    try: \n",
    "        product_url.append(u.get_attribute(\"href\"))\n",
    "    except:\n",
    "        product_url.append('-')"
   ]
  },
  {
   "cell_type": "code",
   "execution_count": 12,
   "metadata": {},
   "outputs": [],
   "source": [
    "# an empty list to store all the urls of comment pages\n",
    "rate_url = []"
   ]
  },
  {
   "cell_type": "code",
   "execution_count": 13,
   "metadata": {},
   "outputs": [],
   "source": [
    "#collects all the urls of 1 star - 5 star comment pages.\n",
    "\n",
    "for i in product_url:\n",
    "    driver.get(i)\n",
    "    time.sleep(3)\n",
    "    try:\n",
    "        url_tag5 = driver.find_element(By.XPATH,\"//a[@class='a-link-normal 5star']\")\n",
    "        rate_url.append(url_tag5.get_attribute(\"href\"))\n",
    "    except:\n",
    "        pass\n",
    "    try:\n",
    "        url_tag4 = driver.find_element(By.XPATH,\"//a[@class='a-link-normal 4star']\")\n",
    "        rate_url.append(url_tag4.get_attribute(\"href\"))\n",
    "    except:\n",
    "        pass\n",
    "    try:\n",
    "        url_tag3 = driver.find_element(By.XPATH,\"//a[@class='a-link-normal 3star']\")\n",
    "        rate_url.append(url_tag3.get_attribute(\"href\"))\n",
    "    except:\n",
    "        pass\n",
    "    try:\n",
    "        url_tag2 = driver.find_element(By.XPATH,\"//a[@class='a-link-normal 2star']\")\n",
    "        rate_url.append(url_tag2.get_attribute(\"href\"))\n",
    "    except:\n",
    "        pass\n",
    "    try:\n",
    "        url_tag1 = driver.find_element(By.XPATH,\"//a[@class='a-link-normal 1star']\")\n",
    "        rate_url.append(url_tag1.get_attribute(\"href\"))\n",
    "    except:\n",
    "        pass"
   ]
  },
  {
   "cell_type": "code",
   "execution_count": 64,
   "metadata": {},
   "outputs": [],
   "source": [
    "cmt = [] #empty list to store all comments\n",
    "rate = [] #empty list to store all the ratings"
   ]
  },
  {
   "cell_type": "code",
   "execution_count": 65,
   "metadata": {},
   "outputs": [],
   "source": [
    "#to get comments and ratings on 10 pages \n",
    "for i in rate_url:\n",
    "    driver.get(i)\n",
    "    for x in range(0,11):\n",
    "        time.sleep(3)\n",
    "        comment_tag = driver.find_elements(By.XPATH,\"//span[@class='a-size-base review-text review-text-content']\")\n",
    "        rate_tag = driver.find_elements(By.XPATH,\"//a[contains(@href,'/gp/customer-reviews/')]/i/span[1]\")\n",
    "        for k in comment_tag:\n",
    "            try:\n",
    "                cmt.append(k.text.replace(\"\\n\",\" \"))\n",
    "            except:\n",
    "                cmt.append(\"-\")\n",
    "        for r in rate_tag:\n",
    "            try:\n",
    "                rate.append(r.get_attribute(\"innerHTML\"))\n",
    "            except:\n",
    "                rate.append(\"-\")\n",
    "        try:\n",
    "            nxtbtn = driver.find_element(By.XPATH,\"//*[@id='cm_cr-pagination_bar']/ul/li[2]/a\").click()\n",
    "        except:\n",
    "            pass\n",
    "        #nxtbtn.click()"
   ]
  },
  {
   "cell_type": "code",
   "execution_count": 66,
   "metadata": {},
   "outputs": [],
   "source": [
    "#to remove the \"out of 5 stars\" text and stores only the numbers in the Rate list\n",
    "Rate=[]\n",
    "for r in rate:\n",
    "    Rate.append(r.replace(' out of 5 stars',''))"
   ]
  },
  {
   "cell_type": "code",
   "execution_count": 67,
   "metadata": {},
   "outputs": [],
   "source": [
    "#creating a dataframe to store the comments and ratings\n",
    "ratings_df = {'Comment':cmt,'Rating':Rate}\n",
    "\n",
    "Rate_df1  = pd.DataFrame(ratings_df)"
   ]
  },
  {
   "cell_type": "code",
   "execution_count": 68,
   "metadata": {},
   "outputs": [
    {
     "data": {
      "text/html": [
       "<div>\n",
       "<style scoped>\n",
       "    .dataframe tbody tr th:only-of-type {\n",
       "        vertical-align: middle;\n",
       "    }\n",
       "\n",
       "    .dataframe tbody tr th {\n",
       "        vertical-align: top;\n",
       "    }\n",
       "\n",
       "    .dataframe thead th {\n",
       "        text-align: right;\n",
       "    }\n",
       "</style>\n",
       "<table border=\"1\" class=\"dataframe\">\n",
       "  <thead>\n",
       "    <tr style=\"text-align: right;\">\n",
       "      <th></th>\n",
       "      <th>Comment</th>\n",
       "      <th>Rating</th>\n",
       "    </tr>\n",
       "  </thead>\n",
       "  <tbody>\n",
       "    <tr>\n",
       "      <th>0</th>\n",
       "      <td>Reviewing after using it for last 3 days, boug...</td>\n",
       "      <td>5.0</td>\n",
       "    </tr>\n",
       "    <tr>\n",
       "      <th>1</th>\n",
       "      <td>I was using OnePlus 5t for last 3 years. Thoug...</td>\n",
       "      <td>5.0</td>\n",
       "    </tr>\n",
       "    <tr>\n",
       "      <th>2</th>\n",
       "      <td>Writing this review after 3 months of usage. W...</td>\n",
       "      <td>5.0</td>\n",
       "    </tr>\n",
       "    <tr>\n",
       "      <th>3</th>\n",
       "      <td>For the price of 48k, I see this device as the...</td>\n",
       "      <td>5.0</td>\n",
       "    </tr>\n",
       "    <tr>\n",
       "      <th>4</th>\n",
       "      <td>Just loved it. It offers unbelievably everythi...</td>\n",
       "      <td>5.0</td>\n",
       "    </tr>\n",
       "    <tr>\n",
       "      <th>...</th>\n",
       "      <td>...</td>\n",
       "      <td>...</td>\n",
       "    </tr>\n",
       "    <tr>\n",
       "      <th>11247</th>\n",
       "      <td>Please don't buy this phone it has hearing spe...</td>\n",
       "      <td>1.0</td>\n",
       "    </tr>\n",
       "    <tr>\n",
       "      <th>11248</th>\n",
       "      <td>i already have Redmi 10pro, now i go to higher...</td>\n",
       "      <td>1.0</td>\n",
       "    </tr>\n",
       "    <tr>\n",
       "      <th>11249</th>\n",
       "      <td>I did not like this product and i want to retu...</td>\n",
       "      <td>1.0</td>\n",
       "    </tr>\n",
       "    <tr>\n",
       "      <th>11250</th>\n",
       "      <td>You can't connect call conference, its gone ha...</td>\n",
       "      <td>1.0</td>\n",
       "    </tr>\n",
       "    <tr>\n",
       "      <th>11251</th>\n",
       "      <td>Bad, poor, patetic, 🤬🤬🤬🤬 Product and services ...</td>\n",
       "      <td>1.0</td>\n",
       "    </tr>\n",
       "  </tbody>\n",
       "</table>\n",
       "<p>11252 rows × 2 columns</p>\n",
       "</div>"
      ],
      "text/plain": [
       "                                                 Comment Rating\n",
       "0      Reviewing after using it for last 3 days, boug...    5.0\n",
       "1      I was using OnePlus 5t for last 3 years. Thoug...    5.0\n",
       "2      Writing this review after 3 months of usage. W...    5.0\n",
       "3      For the price of 48k, I see this device as the...    5.0\n",
       "4      Just loved it. It offers unbelievably everythi...    5.0\n",
       "...                                                  ...    ...\n",
       "11247  Please don't buy this phone it has hearing spe...    1.0\n",
       "11248  i already have Redmi 10pro, now i go to higher...    1.0\n",
       "11249  I did not like this product and i want to retu...    1.0\n",
       "11250  You can't connect call conference, its gone ha...    1.0\n",
       "11251  Bad, poor, patetic, 🤬🤬🤬🤬 Product and services ...    1.0\n",
       "\n",
       "[11252 rows x 2 columns]"
      ]
     },
     "execution_count": 68,
     "metadata": {},
     "output_type": "execute_result"
    }
   ],
   "source": [
    "Rate_df1"
   ]
  },
  {
   "cell_type": "code",
   "execution_count": 71,
   "metadata": {},
   "outputs": [],
   "source": [
    "# saving the data in excel file\n",
    "Rate_df1.to_excel('smartphones1.xlsx')"
   ]
  },
  {
   "cell_type": "markdown",
   "metadata": {},
   "source": [
    "**Laptops**"
   ]
  },
  {
   "cell_type": "code",
   "execution_count": 73,
   "metadata": {},
   "outputs": [],
   "source": [
    "#searching for \"laptops\"\n",
    "search = driver.find_element(By.XPATH,'/html/body/div[1]/header/div/div[1]/div[2]/div/form/div[2]/div[1]/input')\n",
    "search.send_keys(\"laptops\")\n",
    "search = driver.find_element(By.XPATH,'/html/body/div[1]/header/div/div[1]/div[2]/div/form/div[3]/div/span/input')\n",
    "search.click()"
   ]
  },
  {
   "cell_type": "code",
   "execution_count": 74,
   "metadata": {},
   "outputs": [],
   "source": [
    "#empty list to store all URLs of laptops\n",
    "product_url =[]"
   ]
  },
  {
   "cell_type": "code",
   "execution_count": 75,
   "metadata": {},
   "outputs": [],
   "source": [
    "product_url_tag = driver.find_elements(By.XPATH,\"//a[@class='a-link-normal s-underline-text s-underline-link-text s-link-style a-text-normal']\")"
   ]
  },
  {
   "cell_type": "code",
   "execution_count": 76,
   "metadata": {},
   "outputs": [],
   "source": [
    "# url of laptops are appended to the the list\n",
    "for u in product_url_tag:\n",
    "    try: \n",
    "        product_url.append(u.get_attribute(\"href\"))\n",
    "    except:\n",
    "        product_url.append('-')"
   ]
  },
  {
   "cell_type": "code",
   "execution_count": 77,
   "metadata": {},
   "outputs": [],
   "source": [
    "# an empty list to store all the urls of the comment pages\n",
    "rate_url = []"
   ]
  },
  {
   "cell_type": "code",
   "execution_count": 78,
   "metadata": {},
   "outputs": [],
   "source": [
    "#collects all the urls of 1 star - 5 star comment pages.\n",
    "\n",
    "for i in product_url:\n",
    "    driver.get(i)\n",
    "    time.sleep(3)\n",
    "    try:\n",
    "        url_tag5 = driver.find_element(By.XPATH,\"//a[@class='a-link-normal 5star']\")\n",
    "        rate_url.append(url_tag5.get_attribute(\"href\"))\n",
    "    except:\n",
    "        pass\n",
    "    try:\n",
    "        url_tag4 = driver.find_element(By.XPATH,\"//a[@class='a-link-normal 4star']\")\n",
    "        rate_url.append(url_tag4.get_attribute(\"href\"))\n",
    "    except:\n",
    "        pass\n",
    "    try:\n",
    "        url_tag3 = driver.find_element(By.XPATH,\"//a[@class='a-link-normal 3star']\")\n",
    "        rate_url.append(url_tag3.get_attribute(\"href\"))\n",
    "    except:\n",
    "        pass\n",
    "    try:\n",
    "        url_tag2 = driver.find_element(By.XPATH,\"//a[@class='a-link-normal 2star']\")\n",
    "        rate_url.append(url_tag2.get_attribute(\"href\"))\n",
    "    except:\n",
    "        pass\n",
    "    try:\n",
    "        url_tag1 = driver.find_element(By.XPATH,\"//a[@class='a-link-normal 1star']\")\n",
    "        rate_url.append(url_tag1.get_attribute(\"href\"))\n",
    "    except:\n",
    "        pass"
   ]
  },
  {
   "cell_type": "code",
   "execution_count": 79,
   "metadata": {},
   "outputs": [],
   "source": [
    "cmt = [] #empty list to store all comments\n",
    "rate = [] #empty list to store all the ratings"
   ]
  },
  {
   "cell_type": "code",
   "execution_count": 80,
   "metadata": {},
   "outputs": [],
   "source": [
    "# to get comments and ratings on 10 pages\n",
    "for i in rate_url:\n",
    "    driver.get(i)\n",
    "    for x in range(0,11):\n",
    "        time.sleep(3)\n",
    "        comment_tag = driver.find_elements(By.XPATH,\"//span[@class='a-size-base review-text review-text-content']\")\n",
    "        rate_tag = driver.find_elements(By.XPATH,\"//a[contains(@href,'/gp/customer-reviews/')]/i/span[1]\")\n",
    "        for k in comment_tag:\n",
    "            try:\n",
    "                cmt.append(k.text.replace(\"\\n\",\" \"))\n",
    "            except:\n",
    "                cmt.append(\"-\")\n",
    "        for r in rate_tag:\n",
    "            try:\n",
    "                rate.append(r.get_attribute(\"innerHTML\"))\n",
    "            except:\n",
    "                rate.append(\"-\")\n",
    "        try:\n",
    "            nxtbtn = driver.find_element(By.XPATH,\"//*[@id='cm_cr-pagination_bar']/ul/li[2]/a\").click()\n",
    "        except:\n",
    "            pass\n",
    "        #nxtbtn.click()"
   ]
  },
  {
   "cell_type": "code",
   "execution_count": 81,
   "metadata": {},
   "outputs": [],
   "source": [
    "# to remove the \"out of 5 stars\" text and stores only the numbers in the Rate list\n",
    "Rate=[]\n",
    "for r in rate:\n",
    "    Rate.append(r.replace(' out of 5 stars',''))"
   ]
  },
  {
   "cell_type": "code",
   "execution_count": 82,
   "metadata": {},
   "outputs": [],
   "source": [
    "#creating a dataframe to store the comments and ratings\n",
    "ratings_df = {'Comment':cmt,'Rating':Rate}\n",
    "\n",
    "Rate_df2  = pd.DataFrame(ratings_df)"
   ]
  },
  {
   "cell_type": "code",
   "execution_count": 83,
   "metadata": {},
   "outputs": [
    {
     "data": {
      "text/html": [
       "<div>\n",
       "<style scoped>\n",
       "    .dataframe tbody tr th:only-of-type {\n",
       "        vertical-align: middle;\n",
       "    }\n",
       "\n",
       "    .dataframe tbody tr th {\n",
       "        vertical-align: top;\n",
       "    }\n",
       "\n",
       "    .dataframe thead th {\n",
       "        text-align: right;\n",
       "    }\n",
       "</style>\n",
       "<table border=\"1\" class=\"dataframe\">\n",
       "  <thead>\n",
       "    <tr style=\"text-align: right;\">\n",
       "      <th></th>\n",
       "      <th>Comment</th>\n",
       "      <th>Rating</th>\n",
       "    </tr>\n",
       "  </thead>\n",
       "  <tbody>\n",
       "    <tr>\n",
       "      <th>0</th>\n",
       "      <td>Very Good ... Performance as well quality wise...</td>\n",
       "      <td>5.0</td>\n",
       "    </tr>\n",
       "    <tr>\n",
       "      <th>1</th>\n",
       "      <td>Very Good ... Performance as well quality wise...</td>\n",
       "      <td>5.0</td>\n",
       "    </tr>\n",
       "    <tr>\n",
       "      <th>2</th>\n",
       "      <td>Very Good ... Performance as well quality wise...</td>\n",
       "      <td>5.0</td>\n",
       "    </tr>\n",
       "    <tr>\n",
       "      <th>3</th>\n",
       "      <td>Very Good ... Performance as well quality wise...</td>\n",
       "      <td>5.0</td>\n",
       "    </tr>\n",
       "    <tr>\n",
       "      <th>4</th>\n",
       "      <td>Very Good ... Performance as well quality wise...</td>\n",
       "      <td>5.0</td>\n",
       "    </tr>\n",
       "    <tr>\n",
       "      <th>...</th>\n",
       "      <td>...</td>\n",
       "      <td>...</td>\n",
       "    </tr>\n",
       "    <tr>\n",
       "      <th>6460</th>\n",
       "      <td>Within few days of usage DisplayPort over USB ...</td>\n",
       "      <td>1.0</td>\n",
       "    </tr>\n",
       "    <tr>\n",
       "      <th>6461</th>\n",
       "      <td>One of the worst product I received from Amazon</td>\n",
       "      <td>1.0</td>\n",
       "    </tr>\n",
       "    <tr>\n",
       "      <th>6462</th>\n",
       "      <td>The product is flickering and heating bad whil...</td>\n",
       "      <td>1.0</td>\n",
       "    </tr>\n",
       "    <tr>\n",
       "      <th>6463</th>\n",
       "      <td>light weight, good to carry between home and o...</td>\n",
       "      <td>1.0</td>\n",
       "    </tr>\n",
       "    <tr>\n",
       "      <th>6464</th>\n",
       "      <td>battery is very worst its not even giving 3 hr...</td>\n",
       "      <td>1.0</td>\n",
       "    </tr>\n",
       "  </tbody>\n",
       "</table>\n",
       "<p>6465 rows × 2 columns</p>\n",
       "</div>"
      ],
      "text/plain": [
       "                                                Comment Rating\n",
       "0     Very Good ... Performance as well quality wise...    5.0\n",
       "1     Very Good ... Performance as well quality wise...    5.0\n",
       "2     Very Good ... Performance as well quality wise...    5.0\n",
       "3     Very Good ... Performance as well quality wise...    5.0\n",
       "4     Very Good ... Performance as well quality wise...    5.0\n",
       "...                                                 ...    ...\n",
       "6460  Within few days of usage DisplayPort over USB ...    1.0\n",
       "6461    One of the worst product I received from Amazon    1.0\n",
       "6462  The product is flickering and heating bad whil...    1.0\n",
       "6463  light weight, good to carry between home and o...    1.0\n",
       "6464  battery is very worst its not even giving 3 hr...    1.0\n",
       "\n",
       "[6465 rows x 2 columns]"
      ]
     },
     "execution_count": 83,
     "metadata": {},
     "output_type": "execute_result"
    }
   ],
   "source": [
    "Rate_df2"
   ]
  },
  {
   "cell_type": "code",
   "execution_count": 84,
   "metadata": {},
   "outputs": [],
   "source": [
    "# saving the data in excel file\n",
    "Rate_df2.to_excel('laptops1.xlsx')"
   ]
  },
  {
   "cell_type": "markdown",
   "metadata": {},
   "source": [
    "## Web scraping - Flipkart"
   ]
  },
  {
   "cell_type": "code",
   "execution_count": 156,
   "metadata": {},
   "outputs": [],
   "source": [
    "# connecting to web drivers and open url\n",
    "service = Service(r'C:\\Users\\user\\Desktop\\chromedriver_win32\\chromedriver.exe')\n",
    "service.start()\n",
    "\n",
    "driver = webdriver.Remote(service.service_url)\n",
    "\n",
    "keyword = 'https://www.flipkart.com/'\n",
    "driver.get(keyword)"
   ]
  },
  {
   "cell_type": "markdown",
   "metadata": {},
   "source": [
    "**Smart watches**"
   ]
  },
  {
   "cell_type": "code",
   "execution_count": 140,
   "metadata": {},
   "outputs": [],
   "source": [
    "#searching for \"Smart watches\"\n",
    "search = driver.find_element(By.XPATH,'/html/body/div/div/div[1]/div[1]/div[2]/div[2]/form/div/div/input')\n",
    "search.send_keys('Smart watches')\n",
    "searchbtn = driver.find_element(By.CLASS_NAME,'L0Z3Pu').click()"
   ]
  },
  {
   "cell_type": "code",
   "execution_count": 141,
   "metadata": {},
   "outputs": [],
   "source": [
    "#empty list to store all URLs of smartwatches \n",
    "product_url = []"
   ]
  },
  {
   "cell_type": "code",
   "execution_count": 142,
   "metadata": {},
   "outputs": [],
   "source": [
    "# url of each smartwatch is appended to the the list\n",
    "url_tag = driver.find_elements(By.XPATH,\"//a[@class='_1fQZEK']\")\n",
    "for u in url_tag:\n",
    "     product_url.append(u.get_attribute(\"href\"))"
   ]
  },
  {
   "cell_type": "code",
   "execution_count": 143,
   "metadata": {},
   "outputs": [],
   "source": [
    "revurl=[] # an empty list to store all the urls of the review section of the products"
   ]
  },
  {
   "cell_type": "code",
   "execution_count": 145,
   "metadata": {},
   "outputs": [],
   "source": [
    "# url of review section of each product is appended to the the list\n",
    "for i in product_url:\n",
    "    driver.get(i)\n",
    "    time.sleep(1)\n",
    "    try:\n",
    "        rev_tag = driver.find_element(By.XPATH,\"//*[@class='col JOpGWq']/a\")\n",
    "        revurl.append(rev_tag.get_attribute(\"href\"))\n",
    "    except:\n",
    "        pass"
   ]
  },
  {
   "cell_type": "code",
   "execution_count": 146,
   "metadata": {},
   "outputs": [],
   "source": [
    "cmt = [] # an empty list to store all of the comment\n",
    "rate = [] # an empty list to store all the ratings\n",
    "revpgurl=[] # an empty list to store all the urls of the pages containing reviews"
   ]
  },
  {
   "cell_type": "code",
   "execution_count": 147,
   "metadata": {},
   "outputs": [],
   "source": [
    "#the url of each comment page is appended to the the list\n",
    "for i in revurl:\n",
    "    driver.get(i)\n",
    "    time.sleep(2)\n",
    "    \n",
    "              \n",
    "    revpg=driver.find_elements(By.XPATH,\"//a[@class='ge-49M']\")\n",
    "    for n in revpg:\n",
    "        revpgurl.append(n.get_attribute(\"href\"))"
   ]
  },
  {
   "cell_type": "code",
   "execution_count": 149,
   "metadata": {},
   "outputs": [],
   "source": [
    "#all the comments and ratings are collected\n",
    "for j in revpgurl:\n",
    "        driver.get(j)\n",
    "        time.sleep(3)\n",
    "        comment_tag = driver.find_elements(By.XPATH,\"//div[@class='t-ZTKy']/div/div\")\n",
    "        rate_tag = driver.find_elements(By.XPATH,\"//div[@class='_3LWZlK _1BLPMq']\")\n",
    "    \n",
    "        for k in comment_tag:\n",
    "            try:\n",
    "                cmt.append(k.text.replace(\"\\n\",\" \"))\n",
    "            except:\n",
    "                cmt.append(\"-\")\n",
    "        for r in rate_tag:\n",
    "            try:\n",
    "                rate.append(r.text)\n",
    "            except:\n",
    "                rate.append(\"-\")"
   ]
  },
  {
   "cell_type": "code",
   "execution_count": 151,
   "metadata": {},
   "outputs": [
    {
     "data": {
      "text/plain": [
       "1378"
      ]
     },
     "execution_count": 151,
     "metadata": {},
     "output_type": "execute_result"
    }
   ],
   "source": [
    "len(cmt)"
   ]
  },
  {
   "cell_type": "code",
   "execution_count": 152,
   "metadata": {},
   "outputs": [
    {
     "data": {
      "text/plain": [
       "1025"
      ]
     },
     "execution_count": 152,
     "metadata": {},
     "output_type": "execute_result"
    }
   ],
   "source": [
    "len(rate)"
   ]
  },
  {
   "cell_type": "code",
   "execution_count": 153,
   "metadata": {},
   "outputs": [],
   "source": [
    "ratingsdf3 = {'Comment':cmt[0:1025],'Rating':rate[0:1025]}\n",
    "\n",
    "Rate_df3  = pd.DataFrame(ratingsdf3) #creating dataframe of reviews and ratings"
   ]
  },
  {
   "cell_type": "code",
   "execution_count": 154,
   "metadata": {},
   "outputs": [
    {
     "data": {
      "text/html": [
       "<div>\n",
       "<style scoped>\n",
       "    .dataframe tbody tr th:only-of-type {\n",
       "        vertical-align: middle;\n",
       "    }\n",
       "\n",
       "    .dataframe tbody tr th {\n",
       "        vertical-align: top;\n",
       "    }\n",
       "\n",
       "    .dataframe thead th {\n",
       "        text-align: right;\n",
       "    }\n",
       "</style>\n",
       "<table border=\"1\" class=\"dataframe\">\n",
       "  <thead>\n",
       "    <tr style=\"text-align: right;\">\n",
       "      <th></th>\n",
       "      <th>Comment</th>\n",
       "      <th>Rating</th>\n",
       "    </tr>\n",
       "  </thead>\n",
       "  <tbody>\n",
       "    <tr>\n",
       "      <th>0</th>\n",
       "      <td>I have purchased the watch. There is no accura...</td>\n",
       "      <td>5</td>\n",
       "    </tr>\n",
       "    <tr>\n",
       "      <th>1</th>\n",
       "      <td>For 2000 you are getting a good looking watch ...</td>\n",
       "      <td>5</td>\n",
       "    </tr>\n",
       "    <tr>\n",
       "      <th>2</th>\n",
       "      <td>Very osm smart watch and good quality☺️☺️..i l...</td>\n",
       "      <td>4</td>\n",
       "    </tr>\n",
       "    <tr>\n",
       "      <th>3</th>\n",
       "      <td>Nice smartwatch in this range but not loaded w...</td>\n",
       "      <td>5</td>\n",
       "    </tr>\n",
       "    <tr>\n",
       "      <th>4</th>\n",
       "      <td>That's good for normal or basic activities lik...</td>\n",
       "      <td>5</td>\n",
       "    </tr>\n",
       "    <tr>\n",
       "      <th>...</th>\n",
       "      <td>...</td>\n",
       "      <td>...</td>\n",
       "    </tr>\n",
       "    <tr>\n",
       "      <th>1020</th>\n",
       "      <td>Good quality for this smart watch</td>\n",
       "      <td>5</td>\n",
       "    </tr>\n",
       "    <tr>\n",
       "      <th>1021</th>\n",
       "      <td>Good</td>\n",
       "      <td>4</td>\n",
       "    </tr>\n",
       "    <tr>\n",
       "      <th>1022</th>\n",
       "      <td>This is a nice produced</td>\n",
       "      <td>5</td>\n",
       "    </tr>\n",
       "    <tr>\n",
       "      <th>1023</th>\n",
       "      <td>Value for money beautiful Smartwatch in quick ...</td>\n",
       "      <td>5</td>\n",
       "    </tr>\n",
       "    <tr>\n",
       "      <th>1024</th>\n",
       "      <td>Don't buy it's not work 2 times I returned 2 T...</td>\n",
       "      <td>5</td>\n",
       "    </tr>\n",
       "  </tbody>\n",
       "</table>\n",
       "<p>1025 rows × 2 columns</p>\n",
       "</div>"
      ],
      "text/plain": [
       "                                                Comment Rating\n",
       "0     I have purchased the watch. There is no accura...      5\n",
       "1     For 2000 you are getting a good looking watch ...      5\n",
       "2     Very osm smart watch and good quality☺️☺️..i l...      4\n",
       "3     Nice smartwatch in this range but not loaded w...      5\n",
       "4     That's good for normal or basic activities lik...      5\n",
       "...                                                 ...    ...\n",
       "1020                  Good quality for this smart watch      5\n",
       "1021                                               Good      4\n",
       "1022                            This is a nice produced      5\n",
       "1023  Value for money beautiful Smartwatch in quick ...      5\n",
       "1024  Don't buy it's not work 2 times I returned 2 T...      5\n",
       "\n",
       "[1025 rows x 2 columns]"
      ]
     },
     "execution_count": 154,
     "metadata": {},
     "output_type": "execute_result"
    }
   ],
   "source": [
    "Rate_df3 "
   ]
  },
  {
   "cell_type": "code",
   "execution_count": 155,
   "metadata": {},
   "outputs": [],
   "source": [
    "# saving the data in excel file\n",
    "Rate_df3.to_excel('smart_watches1.xlsx')"
   ]
  },
  {
   "cell_type": "markdown",
   "metadata": {},
   "source": [
    "**Smart TV**"
   ]
  },
  {
   "cell_type": "code",
   "execution_count": 157,
   "metadata": {},
   "outputs": [],
   "source": [
    "#searching for \"Smart tv\"\n",
    "search = driver.find_element(By.XPATH,'/html/body/div/div/div[1]/div[1]/div[2]/div[2]/form/div/div/input')\n",
    "search.send_keys('Smart tv')\n",
    "searchbtn = driver.find_element(By.CLASS_NAME,'L0Z3Pu').click()"
   ]
  },
  {
   "cell_type": "code",
   "execution_count": 158,
   "metadata": {},
   "outputs": [],
   "source": [
    "#empty list to store all URLs of smartphone products\n",
    "product_url = []"
   ]
  },
  {
   "cell_type": "code",
   "execution_count": 159,
   "metadata": {},
   "outputs": [],
   "source": [
    "# url of each smartphone is appended to the the list\n",
    "url_tag = driver.find_elements(By.XPATH,\"//a[@class='_1fQZEK']\")\n",
    "for u in url_tag:\n",
    "     product_url.append(u.get_attribute(\"href\"))"
   ]
  },
  {
   "cell_type": "code",
   "execution_count": 160,
   "metadata": {},
   "outputs": [],
   "source": [
    "revurl=[] # an empty list to store all the urls of the review section of the products"
   ]
  },
  {
   "cell_type": "code",
   "execution_count": 161,
   "metadata": {},
   "outputs": [],
   "source": [
    "#to get url of review section of each product is appended to the the list\n",
    "for i in product_url:\n",
    "    driver.get(i)\n",
    "    time.sleep(1)\n",
    "    try:\n",
    "        rev_tag = driver.find_element(By.XPATH,\"//*[@class='col JOpGWq']/a\")\n",
    "        revurl.append(rev_tag.get_attribute(\"href\"))\n",
    "    except:\n",
    "        pass"
   ]
  },
  {
   "cell_type": "code",
   "execution_count": 162,
   "metadata": {},
   "outputs": [],
   "source": [
    "cmt = [] # an empty list to store all of the comment\n",
    "rate = [] # an empty list to store all the ratings\n",
    "revpgurl=[] # an empty list to store all the urls of the pages containing reviews"
   ]
  },
  {
   "cell_type": "code",
   "execution_count": 163,
   "metadata": {},
   "outputs": [],
   "source": [
    "#to get url of each comment page is appended to the the list\n",
    "for i in revurl:\n",
    "    driver.get(i)\n",
    "    time.sleep(2)\n",
    "    \n",
    "              \n",
    "    revpg=driver.find_elements(By.XPATH,\"//a[@class='ge-49M']\")\n",
    "    for n in revpg:\n",
    "        revpgurl.append(n.get_attribute(\"href\"))"
   ]
  },
  {
   "cell_type": "code",
   "execution_count": 164,
   "metadata": {},
   "outputs": [],
   "source": [
    "#all the comments and ratings are collected\n",
    "for j in revpgurl:\n",
    "        driver.get(j)\n",
    "        time.sleep(3)\n",
    "        comment_tag = driver.find_elements(By.XPATH,\"//div[@class='t-ZTKy']/div/div\")\n",
    "        rate_tag = driver.find_elements(By.XPATH,\"//div[@class='_3LWZlK _1BLPMq']\")\n",
    "    \n",
    "        for k in comment_tag:\n",
    "            try:\n",
    "                cmt.append(k.text.replace(\"\\n\",\" \"))\n",
    "            except:\n",
    "                cmt.append(\"-\")\n",
    "        for r in rate_tag:\n",
    "            try:\n",
    "                rate.append(r.text)\n",
    "            except:\n",
    "                rate.append(\"-\")"
   ]
  },
  {
   "cell_type": "code",
   "execution_count": 165,
   "metadata": {},
   "outputs": [
    {
     "data": {
      "text/plain": [
       "1908"
      ]
     },
     "execution_count": 165,
     "metadata": {},
     "output_type": "execute_result"
    }
   ],
   "source": [
    "len(cmt)"
   ]
  },
  {
   "cell_type": "code",
   "execution_count": 166,
   "metadata": {},
   "outputs": [
    {
     "data": {
      "text/plain": [
       "1727"
      ]
     },
     "execution_count": 166,
     "metadata": {},
     "output_type": "execute_result"
    }
   ],
   "source": [
    "len(rate)"
   ]
  },
  {
   "cell_type": "code",
   "execution_count": 167,
   "metadata": {},
   "outputs": [],
   "source": [
    "ratingsdf4 = {'Comment':cmt[0:1727],'Rating':rate[0:1727]}\n",
    "\n",
    "Rate_df4  = pd.DataFrame(ratingsdf4) #creating dataframe of reviews and ratings"
   ]
  },
  {
   "cell_type": "code",
   "execution_count": 168,
   "metadata": {},
   "outputs": [
    {
     "data": {
      "text/html": [
       "<div>\n",
       "<style scoped>\n",
       "    .dataframe tbody tr th:only-of-type {\n",
       "        vertical-align: middle;\n",
       "    }\n",
       "\n",
       "    .dataframe tbody tr th {\n",
       "        vertical-align: top;\n",
       "    }\n",
       "\n",
       "    .dataframe thead th {\n",
       "        text-align: right;\n",
       "    }\n",
       "</style>\n",
       "<table border=\"1\" class=\"dataframe\">\n",
       "  <thead>\n",
       "    <tr style=\"text-align: right;\">\n",
       "      <th></th>\n",
       "      <th>Comment</th>\n",
       "      <th>Rating</th>\n",
       "    </tr>\n",
       "  </thead>\n",
       "  <tbody>\n",
       "    <tr>\n",
       "      <th>0</th>\n",
       "      <td>Great deal on this product.....😇 Budget worth ...</td>\n",
       "      <td>5</td>\n",
       "    </tr>\n",
       "    <tr>\n",
       "      <th>1</th>\n",
       "      <td>Super quality sound is very good</td>\n",
       "      <td>5</td>\n",
       "    </tr>\n",
       "    <tr>\n",
       "      <th>2</th>\n",
       "      <td>Very good for the price.....no support for net...</td>\n",
       "      <td>5</td>\n",
       "    </tr>\n",
       "    <tr>\n",
       "      <th>3</th>\n",
       "      <td>Don't work properly Software issue in three days</td>\n",
       "      <td>3</td>\n",
       "    </tr>\n",
       "    <tr>\n",
       "      <th>4</th>\n",
       "      <td>it does not have bluetooth connectivity!!! thi...</td>\n",
       "      <td>5</td>\n",
       "    </tr>\n",
       "    <tr>\n",
       "      <th>...</th>\n",
       "      <td>...</td>\n",
       "      <td>...</td>\n",
       "    </tr>\n",
       "    <tr>\n",
       "      <th>1722</th>\n",
       "      <td>Osm TV</td>\n",
       "      <td>3</td>\n",
       "    </tr>\n",
       "    <tr>\n",
       "      <th>1723</th>\n",
       "      <td>Super</td>\n",
       "      <td>4</td>\n",
       "    </tr>\n",
       "    <tr>\n",
       "      <th>1724</th>\n",
       "      <td>All are good but only sound quality is not so ...</td>\n",
       "      <td>5</td>\n",
       "    </tr>\n",
       "    <tr>\n",
       "      <th>1725</th>\n",
       "      <td>Software Optimisation is very poor</td>\n",
       "      <td>4</td>\n",
       "    </tr>\n",
       "    <tr>\n",
       "      <th>1726</th>\n",
       "      <td>Best quality products</td>\n",
       "      <td>5</td>\n",
       "    </tr>\n",
       "  </tbody>\n",
       "</table>\n",
       "<p>1727 rows × 2 columns</p>\n",
       "</div>"
      ],
      "text/plain": [
       "                                                Comment Rating\n",
       "0     Great deal on this product.....😇 Budget worth ...      5\n",
       "1                      Super quality sound is very good      5\n",
       "2     Very good for the price.....no support for net...      5\n",
       "3      Don't work properly Software issue in three days      3\n",
       "4     it does not have bluetooth connectivity!!! thi...      5\n",
       "...                                                 ...    ...\n",
       "1722                                             Osm TV      3\n",
       "1723                                              Super      4\n",
       "1724  All are good but only sound quality is not so ...      5\n",
       "1725                 Software Optimisation is very poor      4\n",
       "1726                              Best quality products      5\n",
       "\n",
       "[1727 rows x 2 columns]"
      ]
     },
     "execution_count": 168,
     "metadata": {},
     "output_type": "execute_result"
    }
   ],
   "source": [
    "Rate_df4"
   ]
  },
  {
   "cell_type": "code",
   "execution_count": 169,
   "metadata": {},
   "outputs": [],
   "source": [
    "# saving the data in excel file\n",
    "Rate_df4.to_excel('smart_tv1.xlsx')"
   ]
  },
  {
   "cell_type": "code",
   "execution_count": 170,
   "metadata": {},
   "outputs": [],
   "source": [
    "# to concate all scarpped data as single data set\n",
    "df = pd.concat([Rate_df1,Rate_df2,Rate_df3,Rate_df4],ignore_index=True)"
   ]
  },
  {
   "cell_type": "code",
   "execution_count": 171,
   "metadata": {},
   "outputs": [
    {
     "data": {
      "text/html": [
       "<div>\n",
       "<style scoped>\n",
       "    .dataframe tbody tr th:only-of-type {\n",
       "        vertical-align: middle;\n",
       "    }\n",
       "\n",
       "    .dataframe tbody tr th {\n",
       "        vertical-align: top;\n",
       "    }\n",
       "\n",
       "    .dataframe thead th {\n",
       "        text-align: right;\n",
       "    }\n",
       "</style>\n",
       "<table border=\"1\" class=\"dataframe\">\n",
       "  <thead>\n",
       "    <tr style=\"text-align: right;\">\n",
       "      <th></th>\n",
       "      <th>Comment</th>\n",
       "      <th>Rating</th>\n",
       "    </tr>\n",
       "  </thead>\n",
       "  <tbody>\n",
       "    <tr>\n",
       "      <th>0</th>\n",
       "      <td>Reviewing after using it for last 3 days, boug...</td>\n",
       "      <td>5.0</td>\n",
       "    </tr>\n",
       "    <tr>\n",
       "      <th>1</th>\n",
       "      <td>I was using OnePlus 5t for last 3 years. Thoug...</td>\n",
       "      <td>5.0</td>\n",
       "    </tr>\n",
       "    <tr>\n",
       "      <th>2</th>\n",
       "      <td>Writing this review after 3 months of usage. W...</td>\n",
       "      <td>5.0</td>\n",
       "    </tr>\n",
       "    <tr>\n",
       "      <th>3</th>\n",
       "      <td>For the price of 48k, I see this device as the...</td>\n",
       "      <td>5.0</td>\n",
       "    </tr>\n",
       "    <tr>\n",
       "      <th>4</th>\n",
       "      <td>Just loved it. It offers unbelievably everythi...</td>\n",
       "      <td>5.0</td>\n",
       "    </tr>\n",
       "    <tr>\n",
       "      <th>...</th>\n",
       "      <td>...</td>\n",
       "      <td>...</td>\n",
       "    </tr>\n",
       "    <tr>\n",
       "      <th>20464</th>\n",
       "      <td>Osm TV</td>\n",
       "      <td>3</td>\n",
       "    </tr>\n",
       "    <tr>\n",
       "      <th>20465</th>\n",
       "      <td>Super</td>\n",
       "      <td>4</td>\n",
       "    </tr>\n",
       "    <tr>\n",
       "      <th>20466</th>\n",
       "      <td>All are good but only sound quality is not so ...</td>\n",
       "      <td>5</td>\n",
       "    </tr>\n",
       "    <tr>\n",
       "      <th>20467</th>\n",
       "      <td>Software Optimisation is very poor</td>\n",
       "      <td>4</td>\n",
       "    </tr>\n",
       "    <tr>\n",
       "      <th>20468</th>\n",
       "      <td>Best quality products</td>\n",
       "      <td>5</td>\n",
       "    </tr>\n",
       "  </tbody>\n",
       "</table>\n",
       "<p>20469 rows × 2 columns</p>\n",
       "</div>"
      ],
      "text/plain": [
       "                                                 Comment Rating\n",
       "0      Reviewing after using it for last 3 days, boug...    5.0\n",
       "1      I was using OnePlus 5t for last 3 years. Thoug...    5.0\n",
       "2      Writing this review after 3 months of usage. W...    5.0\n",
       "3      For the price of 48k, I see this device as the...    5.0\n",
       "4      Just loved it. It offers unbelievably everythi...    5.0\n",
       "...                                                  ...    ...\n",
       "20464                                             Osm TV      3\n",
       "20465                                              Super      4\n",
       "20466  All are good but only sound quality is not so ...      5\n",
       "20467                 Software Optimisation is very poor      4\n",
       "20468                              Best quality products      5\n",
       "\n",
       "[20469 rows x 2 columns]"
      ]
     },
     "execution_count": 171,
     "metadata": {},
     "output_type": "execute_result"
    }
   ],
   "source": [
    "df"
   ]
  }
 ],
 "metadata": {
  "kernelspec": {
   "display_name": "Python 3 (ipykernel)",
   "language": "python",
   "name": "python3"
  },
  "language_info": {
   "codemirror_mode": {
    "name": "ipython",
    "version": 3
   },
   "file_extension": ".py",
   "mimetype": "text/x-python",
   "name": "python",
   "nbconvert_exporter": "python",
   "pygments_lexer": "ipython3",
   "version": "3.9.7"
  }
 },
 "nbformat": 4,
 "nbformat_minor": 4
}
